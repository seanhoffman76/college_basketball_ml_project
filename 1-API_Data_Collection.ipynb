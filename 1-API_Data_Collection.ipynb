{
 "cells": [
  {
   "cell_type": "markdown",
   "metadata": {},
   "source": [
    "# Machine Learning vs Las Vegas\n",
    "\n",
    "## Analyzing College Basketball Results Past to Model the Future\n",
    "\n",
    "### Sean Hoffman - Final Project - DU-DEN-DATA-PT-11-2019-U-C"
   ]
  },
  {
   "cell_type": "markdown",
   "metadata": {},
   "source": [
    "#### Dependencies"
   ]
  },
  {
   "cell_type": "code",
   "execution_count": 2,
   "metadata": {},
   "outputs": [],
   "source": [
    "import numpy as np\n",
    "import pandas as pd\n",
    "\n",
    "# sportsreference is a is a free python API that pulls the stats from www.sports-reference.com and \n",
    "# allows them to be easily be used in python-based applications.\n",
    "# See https://github.com/roclark/sportsreference for details.\n",
    "from sportsreference.ncaab.teams import Teams\n",
    "\n",
    "# tqdm is a smart progress meter for python to allow you to see progress being made while large loops are running.\n",
    "# See https://github.com/tqdm/tqdm for details.\n",
    "from tqdm import tqdm"
   ]
  },
  {
   "cell_type": "code",
   "execution_count": 10,
   "metadata": {},
   "outputs": [
    {
     "data": {
      "text/plain": [
       "['__class__',\n",
       " '__delattr__',\n",
       " '__dict__',\n",
       " '__dir__',\n",
       " '__doc__',\n",
       " '__eq__',\n",
       " '__format__',\n",
       " '__ge__',\n",
       " '__getattribute__',\n",
       " '__gt__',\n",
       " '__hash__',\n",
       " '__init__',\n",
       " '__init_subclass__',\n",
       " '__le__',\n",
       " '__lt__',\n",
       " '__module__',\n",
       " '__ne__',\n",
       " '__new__',\n",
       " '__reduce__',\n",
       " '__reduce_ex__',\n",
       " '__repr__',\n",
       " '__setattr__',\n",
       " '__sizeof__',\n",
       " '__str__',\n",
       " '__subclasshook__',\n",
       " '__weakref__',\n",
       " '_away_assist_percentage',\n",
       " '_away_assists',\n",
       " '_away_block_percentage',\n",
       " '_away_blocks',\n",
       " '_away_defensive_rating',\n",
       " '_away_defensive_rebound_percentage',\n",
       " '_away_defensive_rebounds',\n",
       " '_away_effective_field_goal_percentage',\n",
       " '_away_field_goal_attempts',\n",
       " '_away_field_goal_percentage',\n",
       " '_away_field_goals',\n",
       " '_away_free_throw_attempt_rate',\n",
       " '_away_free_throw_attempts',\n",
       " '_away_free_throw_percentage',\n",
       " '_away_free_throws',\n",
       " '_away_minutes_played',\n",
       " '_away_name',\n",
       " '_away_offensive_rating',\n",
       " '_away_offensive_rebound_percentage',\n",
       " '_away_offensive_rebounds',\n",
       " '_away_personal_fouls',\n",
       " '_away_players',\n",
       " '_away_points',\n",
       " '_away_ranking',\n",
       " '_away_record',\n",
       " '_away_steal_percentage',\n",
       " '_away_steals',\n",
       " '_away_three_point_attempt_rate',\n",
       " '_away_three_point_field_goal_attempts',\n",
       " '_away_three_point_field_goal_percentage',\n",
       " '_away_three_point_field_goals',\n",
       " '_away_total_rebound_percentage',\n",
       " '_away_total_rebounds',\n",
       " '_away_true_shooting_percentage',\n",
       " '_away_turnover_percentage',\n",
       " '_away_turnovers',\n",
       " '_away_two_point_field_goal_attempts',\n",
       " '_away_two_point_field_goal_percentage',\n",
       " '_away_two_point_field_goals',\n",
       " '_date',\n",
       " '_extract_player_stats',\n",
       " '_find_boxscore_tables',\n",
       " '_find_player_id',\n",
       " '_find_player_name',\n",
       " '_find_players',\n",
       " '_home_assist_percentage',\n",
       " '_home_assists',\n",
       " '_home_block_percentage',\n",
       " '_home_blocks',\n",
       " '_home_defensive_rating',\n",
       " '_home_defensive_rebound_percentage',\n",
       " '_home_defensive_rebounds',\n",
       " '_home_effective_field_goal_percentage',\n",
       " '_home_field_goal_attempts',\n",
       " '_home_field_goal_percentage',\n",
       " '_home_field_goals',\n",
       " '_home_free_throw_attempt_rate',\n",
       " '_home_free_throw_attempts',\n",
       " '_home_free_throw_percentage',\n",
       " '_home_free_throws',\n",
       " '_home_minutes_played',\n",
       " '_home_name',\n",
       " '_home_offensive_rating',\n",
       " '_home_offensive_rebound_percentage',\n",
       " '_home_offensive_rebounds',\n",
       " '_home_personal_fouls',\n",
       " '_home_players',\n",
       " '_home_points',\n",
       " '_home_ranking',\n",
       " '_home_record',\n",
       " '_home_steal_percentage',\n",
       " '_home_steals',\n",
       " '_home_three_point_attempt_rate',\n",
       " '_home_three_point_field_goal_attempts',\n",
       " '_home_three_point_field_goal_percentage',\n",
       " '_home_three_point_field_goals',\n",
       " '_home_total_rebound_percentage',\n",
       " '_home_total_rebounds',\n",
       " '_home_true_shooting_percentage',\n",
       " '_home_turnover_percentage',\n",
       " '_home_turnovers',\n",
       " '_home_two_point_field_goal_attempts',\n",
       " '_home_two_point_field_goal_percentage',\n",
       " '_home_two_point_field_goals',\n",
       " '_instantiate_players',\n",
       " '_location',\n",
       " '_losing_abbr',\n",
       " '_losing_name',\n",
       " '_pace',\n",
       " '_parse_game_data',\n",
       " '_parse_game_date_and_location',\n",
       " '_parse_name',\n",
       " '_parse_ranking',\n",
       " '_parse_record',\n",
       " '_parse_summary',\n",
       " '_retrieve_html_page',\n",
       " '_summary',\n",
       " '_uri',\n",
       " '_winner',\n",
       " '_winning_abbr',\n",
       " '_winning_name',\n",
       " 'away_assist_percentage',\n",
       " 'away_assists',\n",
       " 'away_block_percentage',\n",
       " 'away_blocks',\n",
       " 'away_defensive_rating',\n",
       " 'away_defensive_rebound_percentage',\n",
       " 'away_defensive_rebounds',\n",
       " 'away_effective_field_goal_percentage',\n",
       " 'away_field_goal_attempts',\n",
       " 'away_field_goal_percentage',\n",
       " 'away_field_goals',\n",
       " 'away_free_throw_attempt_rate',\n",
       " 'away_free_throw_attempts',\n",
       " 'away_free_throw_percentage',\n",
       " 'away_free_throws',\n",
       " 'away_losses',\n",
       " 'away_minutes_played',\n",
       " 'away_offensive_rating',\n",
       " 'away_offensive_rebound_percentage',\n",
       " 'away_offensive_rebounds',\n",
       " 'away_personal_fouls',\n",
       " 'away_players',\n",
       " 'away_points',\n",
       " 'away_ranking',\n",
       " 'away_steal_percentage',\n",
       " 'away_steals',\n",
       " 'away_three_point_attempt_rate',\n",
       " 'away_three_point_field_goal_attempts',\n",
       " 'away_three_point_field_goal_percentage',\n",
       " 'away_three_point_field_goals',\n",
       " 'away_total_rebound_percentage',\n",
       " 'away_total_rebounds',\n",
       " 'away_true_shooting_percentage',\n",
       " 'away_turnover_percentage',\n",
       " 'away_turnovers',\n",
       " 'away_two_point_field_goal_attempts',\n",
       " 'away_two_point_field_goal_percentage',\n",
       " 'away_two_point_field_goals',\n",
       " 'away_win_percentage',\n",
       " 'away_wins',\n",
       " 'dataframe',\n",
       " 'date',\n",
       " 'home_assist_percentage',\n",
       " 'home_assists',\n",
       " 'home_block_percentage',\n",
       " 'home_blocks',\n",
       " 'home_defensive_rating',\n",
       " 'home_defensive_rebound_percentage',\n",
       " 'home_defensive_rebounds',\n",
       " 'home_effective_field_goal_percentage',\n",
       " 'home_field_goal_attempts',\n",
       " 'home_field_goal_percentage',\n",
       " 'home_field_goals',\n",
       " 'home_free_throw_attempt_rate',\n",
       " 'home_free_throw_attempts',\n",
       " 'home_free_throw_percentage',\n",
       " 'home_free_throws',\n",
       " 'home_losses',\n",
       " 'home_minutes_played',\n",
       " 'home_offensive_rating',\n",
       " 'home_offensive_rebound_percentage',\n",
       " 'home_offensive_rebounds',\n",
       " 'home_personal_fouls',\n",
       " 'home_players',\n",
       " 'home_points',\n",
       " 'home_ranking',\n",
       " 'home_steal_percentage',\n",
       " 'home_steals',\n",
       " 'home_three_point_attempt_rate',\n",
       " 'home_three_point_field_goal_attempts',\n",
       " 'home_three_point_field_goal_percentage',\n",
       " 'home_three_point_field_goals',\n",
       " 'home_total_rebound_percentage',\n",
       " 'home_total_rebounds',\n",
       " 'home_true_shooting_percentage',\n",
       " 'home_turnover_percentage',\n",
       " 'home_turnovers',\n",
       " 'home_two_point_field_goal_attempts',\n",
       " 'home_two_point_field_goal_percentage',\n",
       " 'home_two_point_field_goals',\n",
       " 'home_win_percentage',\n",
       " 'home_wins',\n",
       " 'location',\n",
       " 'losing_abbr',\n",
       " 'losing_name',\n",
       " 'pace',\n",
       " 'summary',\n",
       " 'winner',\n",
       " 'winning_abbr',\n",
       " 'winning_name']"
      ]
     },
     "execution_count": 10,
     "metadata": {},
     "output_type": "execute_result"
    }
   ],
   "source": [
    "i = 0\n",
    "for game in sample_team.schedule:\n",
    "    i+=1\n",
    "    if i > 1:\n",
    "        continue\n",
    "    else:\n",
    "        sample_bs = game.boxscore\n",
    "        \n",
    "dir(sample_bs)"
   ]
  },
  {
   "cell_type": "code",
   "execution_count": 17,
   "metadata": {},
   "outputs": [
    {
     "name": "stdout",
     "output_type": "stream",
     "text": [
      "(1, 86)\n"
     ]
    }
   ],
   "source": [
    "print(sample_bs.dataframe.shape)"
   ]
  },
  {
   "cell_type": "code",
   "execution_count": 18,
   "metadata": {
    "scrolled": true
   },
   "outputs": [
    {
     "name": "stdout",
     "output_type": "stream",
     "text": [
      "['away_assist_percentage', 'away_assists', 'away_block_percentage', 'away_blocks', 'away_defensive_rating', 'away_defensive_rebound_percentage', 'away_defensive_rebounds', 'away_effective_field_goal_percentage', 'away_field_goal_attempts', 'away_field_goal_percentage', 'away_field_goals', 'away_free_throw_attempt_rate', 'away_free_throw_attempts', 'away_free_throw_percentage', 'away_free_throws', 'away_losses', 'away_minutes_played', 'away_offensive_rating', 'away_offensive_rebound_percentage', 'away_offensive_rebounds', 'away_personal_fouls', 'away_points', 'away_ranking', 'away_steal_percentage', 'away_steals', 'away_three_point_attempt_rate', 'away_three_point_field_goal_attempts', 'away_three_point_field_goal_percentage', 'away_three_point_field_goals', 'away_total_rebound_percentage', 'away_total_rebounds', 'away_true_shooting_percentage', 'away_turnover_percentage', 'away_turnovers', 'away_two_point_field_goal_attempts', 'away_two_point_field_goal_percentage', 'away_two_point_field_goals', 'away_win_percentage', 'away_wins', 'date', 'home_assist_percentage', 'home_assists', 'home_block_percentage', 'home_blocks', 'home_defensive_rating', 'home_defensive_rebound_percentage', 'home_defensive_rebounds', 'home_effective_field_goal_percentage', 'home_field_goal_attempts', 'home_field_goal_percentage', 'home_field_goals', 'home_free_throw_attempt_rate', 'home_free_throw_attempts', 'home_free_throw_percentage', 'home_free_throws', 'home_losses', 'home_minutes_played', 'home_offensive_rating', 'home_offensive_rebound_percentage', 'home_offensive_rebounds', 'home_personal_fouls', 'home_points', 'home_ranking', 'home_steal_percentage', 'home_steals', 'home_three_point_attempt_rate', 'home_three_point_field_goal_attempts', 'home_three_point_field_goal_percentage', 'home_three_point_field_goals', 'home_total_rebound_percentage', 'home_total_rebounds', 'home_true_shooting_percentage', 'home_turnover_percentage', 'home_turnovers', 'home_two_point_field_goal_attempts', 'home_two_point_field_goal_percentage', 'home_two_point_field_goals', 'home_win_percentage', 'home_wins', 'location', 'losing_abbr', 'losing_name', 'pace', 'winner', 'winning_abbr', 'winning_name']\n"
     ]
    }
   ],
   "source": [
    "print(list(sample_bs.dataframe))"
   ]
  },
  {
   "cell_type": "code",
   "execution_count": 11,
   "metadata": {},
   "outputs": [],
   "source": [
    "sample_bs.home_players\n",
    "sample_player = sample_bs.home_players[0]"
   ]
  },
  {
   "cell_type": "code",
   "execution_count": 12,
   "metadata": {},
   "outputs": [
    {
     "name": "stdout",
     "output_type": "stream",
     "text": [
      "['__class__', '__delattr__', '__dict__', '__dir__', '__doc__', '__eq__', '__format__', '__ge__', '__getattribute__', '__gt__', '__hash__', '__init__', '__init_subclass__', '__le__', '__lt__', '__module__', '__ne__', '__new__', '__reduce__', '__reduce_ex__', '__repr__', '__setattr__', '__sizeof__', '__str__', '__subclasshook__', '__weakref__', '_assist_percentage', '_assists', '_block_percentage', '_blocks', '_defensive_rating', '_defensive_rebound_percentage', '_defensive_rebounds', '_effective_field_goal_percentage', '_field_goal_attempts', '_field_goal_percentage', '_field_goals', '_free_throw_attempt_rate', '_free_throw_attempts', '_free_throw_percentage', '_free_throws', '_index', '_minutes_played', '_name', '_offensive_rating', '_offensive_rebound_percentage', '_offensive_rebounds', '_parse_player_data', '_parse_value', '_personal_fouls', '_player_data', '_player_id', '_points', '_steal_percentage', '_steals', '_three_point_attempt_rate', '_three_point_attempts', '_three_point_percentage', '_three_pointers', '_total_rebound_percentage', '_total_rebounds', '_true_shooting_percentage', '_turnover_percentage', '_turnovers', '_two_point_attempts', '_two_point_percentage', '_two_pointers', '_usage_percentage', 'assist_percentage', 'assists', 'block_percentage', 'blocks', 'dataframe', 'defensive_rating', 'defensive_rebound_percentage', 'defensive_rebounds', 'effective_field_goal_percentage', 'field_goal_attempts', 'field_goal_percentage', 'field_goals', 'free_throw_attempt_rate', 'free_throw_attempts', 'free_throw_percentage', 'free_throws', 'minutes_played', 'name', 'offensive_rating', 'offensive_rebound_percentage', 'offensive_rebounds', 'personal_fouls', 'player_id', 'points', 'steal_percentage', 'steals', 'three_point_attempt_rate', 'three_point_attempts', 'three_point_percentage', 'three_pointers', 'total_rebound_percentage', 'total_rebounds', 'true_shooting_percentage', 'turnover_percentage', 'turnovers', 'two_point_attempts', 'two_point_percentage', 'two_pointers', 'usage_percentage']\n"
     ]
    }
   ],
   "source": [
    "print(list(dir(sample_player)))"
   ]
  },
  {
   "cell_type": "markdown",
   "metadata": {},
   "source": [
    "#### Create a list of boxscore URLS for games played in each season using 'try/except' because not all teams have information available for every season"
   ]
  },
  {
   "cell_type": "code",
   "execution_count": 3,
   "metadata": {},
   "outputs": [
    {
     "name": "stderr",
     "output_type": "stream",
     "text": [
      "100%|█████████████████████████████████████████████████████████████████████████████████| 10/10 [24:21<00:00, 146.18s/it]\n"
     ]
    }
   ],
   "source": [
    "seasons = range(2011, 2020)\n",
    "\n",
    "master_array = []\n",
    "\n",
    "for season in tqdm(seasons):\n",
    "    try:\n",
    "        season_team_list = Teams(str(season))\n",
    "        for team in season_team_list:\n",
    "            team_schedule = team.schedule\n",
    "            for game in team_schedule:\n",
    "                boxscore = game.boxscore_index\n",
    "                master_array.append([str(season),team.name,boxscore])\n",
    "    except:\n",
    "        continue\n",
    "\n",
    "schedule_df = pd.DataFrame(master_array, columns=\n",
    "                          ['Season','TeamName','BoxScoreIndex'])\n",
    "\n",
    "schedule_df.to_csv('./output/schedule.csv',index=None)"
   ]
  },
  {
   "cell_type": "code",
   "execution_count": 14,
   "metadata": {},
   "outputs": [
    {
     "name": "stdout",
     "output_type": "stream",
     "text": [
      "113381\n"
     ]
    }
   ],
   "source": [
    "print(len(schedule_df))"
   ]
  },
  {
   "cell_type": "code",
   "execution_count": 16,
   "metadata": {},
   "outputs": [
    {
     "data": {
      "text/plain": [
       "Season\n",
       "2010    10650\n",
       "2011    11135\n",
       "2012    11145\n",
       "2013    11281\n",
       "2014    11455\n",
       "2015    11431\n",
       "2016    11468\n",
       "2017    11511\n",
       "2018    11542\n",
       "2019    11652\n",
       "Name: BoxScoreIndex, dtype: int64"
      ]
     },
     "execution_count": 16,
     "metadata": {},
     "output_type": "execute_result"
    }
   ],
   "source": [
    "schedule_df.groupby('Season')['BoxScoreIndex'].count()"
   ]
  },
  {
   "cell_type": "code",
   "execution_count": 21,
   "metadata": {},
   "outputs": [
    {
     "name": "stdout",
     "output_type": "stream",
     "text": [
      "2009-11-13-air-force\n"
     ]
    }
   ],
   "source": [
    "print(schedule_df.iloc[0].BoxScoreIndex)"
   ]
  },
  {
   "cell_type": "code",
   "execution_count": 22,
   "metadata": {},
   "outputs": [
    {
     "name": "stdout",
     "output_type": "stream",
     "text": [
      "Season            int64\n",
      "TeamName         object\n",
      "BoxScoreIndex    object\n",
      "dtype: object\n"
     ]
    }
   ],
   "source": [
    "print(schedule_df.dtypes)"
   ]
  },
  {
   "cell_type": "markdown",
   "metadata": {},
   "source": [
    "#### Import each of the available game boxscores from sports-reference.com for each season by looping through API calls. Assemble the data in csv files for each season."
   ]
  },
  {
   "cell_type": "code",
   "execution_count": 26,
   "metadata": {},
   "outputs": [
    {
     "name": "stderr",
     "output_type": "stream",
     "text": [
      "11135it [2:00:13,  1.54it/s]\n"
     ]
    }
   ],
   "source": [
    "from sportsreference.ncaab.boxscore import Boxscore\n",
    "\n",
    "season = 2011\n",
    "box_df = None\n",
    "\n",
    "schedule_df = pd.read_csv('./output/schedule.csv')\n",
    "\n",
    "season_df = schedule_df.loc[schedule_df.Season==season]\n",
    "for index, row in tqdm(season_df.iterrows()):\n",
    "    box_link = row['BoxScoreIndex']\n",
    "    _df = Boxscore(box_link).dataframe\n",
    "    \n",
    "    if box_df is not None:\n",
    "        box_df = pd.concat([box_df,_df],axis=0)\n",
    "    else:\n",
    "        box_df = _df\n",
    "        \n",
    "box_df.to_csv('./output/{}_boxscores.csv'.format(season),index=None)"
   ]
  },
  {
   "cell_type": "code",
   "execution_count": 3,
   "metadata": {},
   "outputs": [],
   "source": [
    "# Re-read schedule.csv into schedule_df due to cleaning out exceptions\n",
    "\n",
    "schedule_df = pd.read_csv('./output/schedule.csv')"
   ]
  },
  {
   "cell_type": "code",
   "execution_count": 29,
   "metadata": {},
   "outputs": [
    {
     "name": "stderr",
     "output_type": "stream",
     "text": [
      "11144it [1:58:37,  1.57it/s]\n"
     ]
    }
   ],
   "source": [
    "season = 2012\n",
    "box_df = None\n",
    "\n",
    "season_df = schedule_df.loc[schedule_df.Season==season]\n",
    "for index, row in tqdm(season_df.iterrows()):\n",
    "    box_link = row['BoxScoreIndex']\n",
    "    _df = Boxscore(box_link).dataframe\n",
    "    if box_df is not None:\n",
    "        box_df = pd.concat([box_df,_df],axis=0)\n",
    "    else:\n",
    "        box_df = _df\n",
    "        \n",
    "box_df.to_csv('./output/{}_boxscores.csv'.format(season),index=None)"
   ]
  },
  {
   "cell_type": "code",
   "execution_count": 30,
   "metadata": {},
   "outputs": [
    {
     "name": "stderr",
     "output_type": "stream",
     "text": [
      "11281it [2:01:16,  1.55it/s]\n"
     ]
    }
   ],
   "source": [
    "season = 2013\n",
    "box_df = None\n",
    "\n",
    "season_df = schedule_df.loc[schedule_df.Season==season]\n",
    "for index, row in tqdm(season_df.iterrows()):\n",
    "    box_link = row['BoxScoreIndex']\n",
    "    _df = Boxscore(box_link).dataframe\n",
    "    if box_df is not None:\n",
    "        box_df = pd.concat([box_df,_df],axis=0)\n",
    "    else:\n",
    "        box_df = _df\n",
    "        \n",
    "box_df.to_csv('./output/{}_boxscores.csv'.format(season),index=None)"
   ]
  },
  {
   "cell_type": "code",
   "execution_count": 32,
   "metadata": {},
   "outputs": [
    {
     "name": "stderr",
     "output_type": "stream",
     "text": [
      "11455it [2:01:00,  1.58it/s]\n"
     ]
    }
   ],
   "source": [
    "season = 2014\n",
    "box_df = None\n",
    "\n",
    "season_df = schedule_df.loc[schedule_df.Season==season]\n",
    "for index, row in tqdm(season_df.iterrows()):\n",
    "    box_link = row['BoxScoreIndex']\n",
    "    _df = Boxscore(box_link).dataframe\n",
    "    if box_df is not None:\n",
    "        box_df = pd.concat([box_df,_df],axis=0)\n",
    "    else:\n",
    "        box_df = _df\n",
    "        \n",
    "box_df.to_csv('./output/{}_boxscores.csv'.format(season),index=None)"
   ]
  },
  {
   "cell_type": "code",
   "execution_count": 4,
   "metadata": {},
   "outputs": [
    {
     "name": "stderr",
     "output_type": "stream",
     "text": [
      "11430it [1:32:33,  2.06it/s]\n"
     ]
    }
   ],
   "source": [
    "from sportsreference.ncaab.boxscore import Boxscore\n",
    "\n",
    "season = 2015\n",
    "box_df = None\n",
    "\n",
    "season_df = schedule_df.loc[schedule_df.Season==season]\n",
    "for index, row in tqdm(season_df.iterrows()):\n",
    "    box_link = row['BoxScoreIndex']\n",
    "    _df = Boxscore(box_link).dataframe\n",
    "    if box_df is not None:\n",
    "        box_df = pd.concat([box_df,_df],axis=0)\n",
    "    else:\n",
    "        box_df = _df\n",
    "        \n",
    "box_df.to_csv('./output/{}_boxscores.csv'.format(season),index=None)"
   ]
  },
  {
   "cell_type": "code",
   "execution_count": 8,
   "metadata": {},
   "outputs": [
    {
     "name": "stderr",
     "output_type": "stream",
     "text": [
      "11468it [1:40:01,  1.91it/s]\n"
     ]
    }
   ],
   "source": [
    "from sportsreference.ncaab.boxscore import Boxscore\n",
    "\n",
    "season = 2016\n",
    "box_df = None\n",
    "\n",
    "season_df = schedule_df.loc[schedule_df.Season==season]\n",
    "for index, row in tqdm(season_df.iterrows()):\n",
    "    box_link = row['BoxScoreIndex']\n",
    "    _df = Boxscore(box_link).dataframe\n",
    "    if box_df is not None:\n",
    "        box_df = pd.concat([box_df,_df],axis=0)\n",
    "    else:\n",
    "        box_df = _df\n",
    "        \n",
    "box_df.to_csv('./output/{}_boxscores.csv'.format(season),index=None)"
   ]
  },
  {
   "cell_type": "code",
   "execution_count": 9,
   "metadata": {},
   "outputs": [
    {
     "name": "stderr",
     "output_type": "stream",
     "text": [
      "11511it [1:42:29,  1.87it/s]\n"
     ]
    }
   ],
   "source": [
    "from sportsreference.ncaab.boxscore import Boxscore\n",
    "\n",
    "season = 2017\n",
    "box_df = None\n",
    "\n",
    "season_df = schedule_df.loc[schedule_df.Season==season]\n",
    "for index, row in tqdm(season_df.iterrows()):\n",
    "    box_link = row['BoxScoreIndex']\n",
    "    _df = Boxscore(box_link).dataframe\n",
    "    if box_df is not None:\n",
    "        box_df = pd.concat([box_df,_df],axis=0)\n",
    "    else:\n",
    "        box_df = _df\n",
    "        \n",
    "box_df.to_csv('./output/{}_boxscores.csv'.format(season),index=None)"
   ]
  },
  {
   "cell_type": "code",
   "execution_count": 10,
   "metadata": {},
   "outputs": [
    {
     "name": "stderr",
     "output_type": "stream",
     "text": [
      "11544it [1:44:00,  1.85it/s]\n"
     ]
    }
   ],
   "source": [
    "from sportsreference.ncaab.boxscore import Boxscore\n",
    "\n",
    "season = 2018\n",
    "box_df = None\n",
    "\n",
    "season_df = schedule_df.loc[schedule_df.Season==season]\n",
    "for index, row in tqdm(season_df.iterrows()):\n",
    "    box_link = row['BoxScoreIndex']\n",
    "    _df = Boxscore(box_link).dataframe\n",
    "    if box_df is not None:\n",
    "        box_df = pd.concat([box_df,_df],axis=0)\n",
    "    else:\n",
    "        box_df = _df\n",
    "        \n",
    "box_df.to_csv('./output/{}_boxscores.csv'.format(season),index=None)"
   ]
  },
  {
   "cell_type": "code",
   "execution_count": 12,
   "metadata": {},
   "outputs": [
    {
     "name": "stderr",
     "output_type": "stream",
     "text": [
      "11652it [2:02:28,  1.59it/s]\n"
     ]
    }
   ],
   "source": [
    "from sportsreference.ncaab.boxscore import Boxscore\n",
    "\n",
    "season = 2019\n",
    "box_df = None\n",
    "\n",
    "season_df = schedule_df.loc[schedule_df.Season==season]\n",
    "for index, row in tqdm(season_df.iterrows()):\n",
    "    box_link = row['BoxScoreIndex']\n",
    "    _df = Boxscore(box_link).dataframe\n",
    "    if box_df is not None:\n",
    "        box_df = pd.concat([box_df,_df],axis=0)\n",
    "    else:\n",
    "        box_df = _df\n",
    "        \n",
    "box_df.to_csv('./output/{}_boxscores.csv'.format(season),index=None)"
   ]
  }
 ],
 "metadata": {
  "kernelspec": {
   "display_name": "Python 3.7.3 64-bit ('seanh': virtualenv)",
   "language": "python",
   "name": "python37364bitseanhvirtualenvc32b57c590df48668dac7fa9270aa8a3"
  },
  "language_info": {
   "codemirror_mode": {
    "name": "ipython",
    "version": 3
   },
   "file_extension": ".py",
   "mimetype": "text/x-python",
   "name": "python",
   "nbconvert_exporter": "python",
   "pygments_lexer": "ipython3",
   "version": "3.7.3"
  }
 },
 "nbformat": 4,
 "nbformat_minor": 2
}
